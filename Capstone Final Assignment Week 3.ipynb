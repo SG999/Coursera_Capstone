{
 "cells": [
  {
   "cell_type": "markdown",
   "metadata": {},
   "source": [
    "# Introduction\n",
    "\n",
    "### 1.\tBackground:\n",
    "\n",
    " The world happiness report gives us a clear understanding of rankings of different countries based on happiness quotient of people. It is based on several factors which vary from country to country and depending on how they vary a score is given to each country. Highest scorer is the happiest country. These scores change from year to year based on different attributes like GDP etc. \n",
    "\n",
    "### 2.\tProblem:\n",
    "\n",
    " The data collected in this regard will help us find the score of additionally added countries based on the previous sets of data. This in turn would produce an overall rank and score of new countries. Apart from this, data can also be used to determine what factors play an important role in determining the happiness quotient of an individual country and the project aims to predict how countries can improve their happiness quotient.\n",
    "\n",
    "### 3.\tInterest:\n",
    "\n",
    " Now understanding why looking at such a data set is important. For any organization, no matter how small or big, it is important to keep a check on the mental state of the people working there. Only then, the organization grows altogether. Making sure working people are happy lets organizations work more efficiently.\n",
    " \n",
    "# Data \n",
    "\n",
    "### 1.\tData Sources:\n",
    "The main source of this data set has been Kaggle where individual data sets of different years is available. For this project I’m considering the 2019 year’s data. \n",
    "\n",
    "### 2.\tData Insights:\n",
    "The data consists of seven different variables each of which are numerical values. The numerical values range from 0 and go all the way above. Based on the values of independent feature sets, a score is derived for each country which decides the rank of the country. There are 155 countries data that is available for modelling this project’s model. The independent feature sets namely GDP, social support, healthy life expectancy, freedom to make life choices, generosity, perceptions of corruption are used for finding the dependent variable which is the score. It is also clearly visible from the table that Country or Region column is filled with country names which is non numeric value. Nevertheless since, we are not utilizing this column for our findings it can remain as it is.\n",
    "\n",
    "### 3.\tApproach:\n",
    "The idea is to utilize 30% of this data to train the model and use the remaining 70% to see how accurate the model is working. Also, when a new country is added to the data we can determine its rank based on the working model available with us.\n",
    "\n"
   ]
  },
  {
   "cell_type": "code",
   "execution_count": 5,
   "metadata": {},
   "outputs": [],
   "source": [
    "import numpy as np\n",
    "import pandas as pd\n",
    "\n",
    "df= pd.read_csv(\"C:/Users/SHASHANK/Desktop/Data Science Assignment/2019.csv\")\n",
    "df.rename(columns={\"Overall rank\":\"Rank\",\"Country or region\":\"Country\",\"GDP per capita\":\"GDP\", \"Social support\":\"SS\", \"Healthy life expectancy\":\"Life_expectancy\", \"Freedom to make life choices\":\"Freedom\", \"Perceptions of corruption\":\"Perceptions\"}, inplace=True)"
   ]
  },
  {
   "cell_type": "code",
   "execution_count": 8,
   "metadata": {},
   "outputs": [],
   "source": [
    "import matplotlib.pyplot as plt"
   ]
  },
  {
   "cell_type": "code",
   "execution_count": 9,
   "metadata": {},
   "outputs": [],
   "source": [
    "import pylab as pl"
   ]
  },
  {
   "cell_type": "code",
   "execution_count": 6,
   "metadata": {},
   "outputs": [],
   "source": [
    "cdf=df[[\"Country\",\"Score\"]]"
   ]
  },
  {
   "cell_type": "code",
   "execution_count": 10,
   "metadata": {
    "scrolled": true
   },
   "outputs": [
    {
     "data": {
      "image/png": "[encoded data removed]",
      "text/plain": [
       "<Figure size 432x288 with 1 Axes>"
      ]
     },
     "metadata": {
      "needs_background": "light"
     },
     "output_type": "display_data"
    }
   ],
   "source": [
    "viz=cdf[[\"Score\",\"Country\"]]\n",
    "viz.hist()\n",
    "plt.show()"
   ]
  },
  {
   "cell_type": "markdown",
   "metadata": {},
   "source": [
    "### Data Cleaning\n",
    "The data is cleaned by transforming all the available data into the format required for operations. Generally for all machine learning activities, we use numeric variables(float). The necessary columns required for operating on this data are separated by creating a different dataframe. \n",
    "\n",
    "If we look at the data available to us, we have Score which is the determining variable and the rest like GDP, Social Support, Life Expectancy, Freedom, Generosity, Perceptions, are variables which decide the score based on weightage factor.\n",
    "For this very purpose all the variables are seperated into a different dataframe mdf, where the required variables are used for training and testing the given data set."
   ]
  },
  {
   "cell_type": "code",
   "execution_count": 21,
   "metadata": {},
   "outputs": [],
   "source": [
    "mdf=df[[\"Score\",\"GDP\",\"SS\",\"Life_expectancy\",\"Freedom\",\"Generosity\",\"Perceptions\"]]\n",
    "mdf=mdf.astype(float)"
   ]
  },
  {
   "cell_type": "markdown",
   "metadata": {},
   "source": [
    "### Modelling \n",
    "Once the given data is all cleaned and filtered through, the next step is to train and test the data. This is done using various methods available based on the data and the type of prediction required. Here we are doing a linear regression on the model to see how different attributes play a role in changing the overall score of the country. Below we can see the dependency of score on GDP. here the independent variable GDP varies from country to country. But from the scatter plot below we can see a correlation between GDP and score. When the independent variable GDP is increasing there is a rise in score thereby leading to positive correlation."
   ]
  },
  {
   "cell_type": "code",
   "execution_count": 22,
   "metadata": {},
   "outputs": [],
   "source": [
    "msk= np.random.rand(len(df))<0.8\n",
    "train = mdf[msk]\n",
    "test= mdf[~msk]"
   ]
  },
  {
   "cell_type": "code",
   "execution_count": 23,
   "metadata": {},
   "outputs": [
    {
     "data": {
      "image/png": "[encoded data removed]",
      "text/plain": [
       "<Figure size 432x288 with 1 Axes>"
      ]
     },
     "metadata": {
      "needs_background": "light"
     },
     "output_type": "display_data"
    }
   ],
   "source": [
    "plt.scatter(train.GDP, train.Score, color=\"blue\")\n",
    "plt.xlabel(\"GDP\")\n",
    "plt.ylabel(\"Score\")\n",
    "plt.show()"
   ]
  },
  {
   "cell_type": "markdown",
   "metadata": {},
   "source": [
    "### Traing and testing the model\n",
    "For training the model, we first breakdown the given data set into a (70,30) or (80,20) split where the first value within the brackets is used for training the model and the second value for testing. \n",
    "For this example we are using linear regression method for training the dataset as it gives us a clear understanding of the correlation between the variables. We use the sklearn package for doing the linear regression on the model. We then get the coefficients and intercepts for the model.\n",
    "In the testing phase, we utilise the data we got from training to test the model."
   ]
  },
  {
   "cell_type": "code",
   "execution_count": 29,
   "metadata": {},
   "outputs": [
    {
     "name": "stdout",
     "output_type": "stream",
     "text": [
      "Coefficients:  [[2.2273047]]\n",
      "Intercept:  [3.39294537]\n"
     ]
    }
   ],
   "source": [
    "from sklearn import linear_model\n",
    "regr= linear_model.LinearRegression()\n",
    "train_x=np.asanyarray(train[[\"GDP\"]])\n",
    "train_y=np.asanyarray(train[[\"Score\"]])\n",
    "regr.fit (train_x,train_y)\n",
    "print(\"Coefficients: \", regr.coef_)\n",
    "print(\"Intercept: \",regr.intercept_)"
   ]
  },
  {
   "cell_type": "code",
   "execution_count": 30,
   "metadata": {},
   "outputs": [
    {
     "data": {
      "text/plain": [
       "Text(0, 0.5, 'Score')"
      ]
     },
     "execution_count": 30,
     "metadata": {},
     "output_type": "execute_result"
    },
    {
     "data": {
      "image/png": "[encoded data removed]",
      "text/plain": [
       "<Figure size 432x288 with 1 Axes>"
      ]
     },
     "metadata": {
      "needs_background": "light"
     },
     "output_type": "display_data"
    }
   ],
   "source": [
    "plt.scatter(train.GDP, train.Score, color=\"blue\")\n",
    "plt.plot(train_x, regr.coef_[0][0]*train_x+regr.intercept_[0], \"-r\")\n",
    "plt.xlabel(\"GDP\")\n",
    "plt.ylabel(\"Score\")"
   ]
  },
  {
   "cell_type": "code",
   "execution_count": null,
   "metadata": {},
   "outputs": [],
   "source": [
    "from sklearn.metrics import r2_score\n",
    "test_x=np.asanyarray(test[[\"GDP\"]])\n",
    "test_y=np.asanyarray(test[[\"Score\"]])\n",
    "test_y_hat=regr.predict(test_x)\n",
    "print(\"Mean absolute error: %.2f\" % np.mean(np.absolute(test_y_hat - test_y)))\n",
    "print(\"Residual sum of squares (MSE): %.2f\" % np.mean((test_y_hat-test_y)**2))\n",
    "print(\"R2-score: %.2f\" % r2_score(test_y_hat, test_y))"
   ]
  },
  {
   "cell_type": "markdown",
   "metadata": {},
   "source": [
    "### Evaluation and Conclusion\n",
    "An attempt has been made to understand training and testing of the happiness dataset. There are various possible models available to perform the evaluation of such models, but linear regression gives us a better clarity on correlations, which is why it was chosen. Since the available data set was quite small with very less values the model might not have given the perfect evaluations but there is a future prospectus to it, where we can determine the overall score of a new country when given its other independent variable values. "
   ]
  }
 ],
 "metadata": {
  "kernelspec": {
   "display_name": "Python 3",
   "language": "python",
   "name": "python3"
  },
  "language_info": {
   "codemirror_mode": {
    "name": "ipython",
    "version": 3
   },
   "file_extension": ".py",
   "mimetype": "text/x-python",
   "name": "python",
   "nbconvert_exporter": "python",
   "pygments_lexer": "ipython3",
   "version": "3.7.6"
  }
 },
 "nbformat": 4,
 "nbformat_minor": 4
}
